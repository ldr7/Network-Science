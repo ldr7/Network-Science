{
 "cells": [
  {
   "cell_type": "code",
   "execution_count": 58,
   "metadata": {},
   "outputs": [],
   "source": [
    "import networkx as nx\n",
    "import pandas as pd\n",
    "import numpy as np\n",
    "import matplotlib.pyplot as plt"
   ]
  },
  {
   "cell_type": "code",
   "execution_count": 2,
   "metadata": {},
   "outputs": [
    {
     "name": "stdout",
     "output_type": "stream",
     "text": [
      "/Users/atharvajoshi/PycharmProjects/network_science\n"
     ]
    }
   ],
   "source": [
    "!pwd"
   ]
  },
  {
   "cell_type": "code",
   "execution_count": 28,
   "metadata": {},
   "outputs": [],
   "source": [
    "whole_network = pd.read_csv('/Users/atharvajoshi/Downloads/whole_network.csv',header=None)"
   ]
  },
  {
   "cell_type": "code",
   "execution_count": 34,
   "metadata": {},
   "outputs": [
    {
     "data": {
      "text/html": [
       "<div>\n",
       "<style scoped>\n",
       "    .dataframe tbody tr th:only-of-type {\n",
       "        vertical-align: middle;\n",
       "    }\n",
       "\n",
       "    .dataframe tbody tr th {\n",
       "        vertical-align: top;\n",
       "    }\n",
       "\n",
       "    .dataframe thead th {\n",
       "        text-align: right;\n",
       "    }\n",
       "</style>\n",
       "<table border=\"1\" class=\"dataframe\">\n",
       "  <thead>\n",
       "    <tr style=\"text-align: right;\">\n",
       "      <th></th>\n",
       "      <th>Source</th>\n",
       "      <th>Target</th>\n",
       "      <th>Weight</th>\n",
       "    </tr>\n",
       "  </thead>\n",
       "  <tbody>\n",
       "    <tr>\n",
       "      <th>0</th>\n",
       "      <td>1292</td>\n",
       "      <td>257</td>\n",
       "      <td>16</td>\n",
       "    </tr>\n",
       "    <tr>\n",
       "      <th>1</th>\n",
       "      <td>1292</td>\n",
       "      <td>7420</td>\n",
       "      <td>36</td>\n",
       "    </tr>\n",
       "    <tr>\n",
       "      <th>2</th>\n",
       "      <td>1292</td>\n",
       "      <td>3048</td>\n",
       "      <td>332</td>\n",
       "    </tr>\n",
       "    <tr>\n",
       "      <th>3</th>\n",
       "      <td>1292</td>\n",
       "      <td>339</td>\n",
       "      <td>501</td>\n",
       "    </tr>\n",
       "    <tr>\n",
       "      <th>4</th>\n",
       "      <td>1292</td>\n",
       "      <td>19001</td>\n",
       "      <td>17</td>\n",
       "    </tr>\n",
       "    <tr>\n",
       "      <th>...</th>\n",
       "      <td>...</td>\n",
       "      <td>...</td>\n",
       "      <td>...</td>\n",
       "    </tr>\n",
       "    <tr>\n",
       "      <th>1634123</th>\n",
       "      <td>18834</td>\n",
       "      <td>235</td>\n",
       "      <td>1</td>\n",
       "    </tr>\n",
       "    <tr>\n",
       "      <th>1634124</th>\n",
       "      <td>31098</td>\n",
       "      <td>2707</td>\n",
       "      <td>4</td>\n",
       "    </tr>\n",
       "    <tr>\n",
       "      <th>1634125</th>\n",
       "      <td>31098</td>\n",
       "      <td>2709</td>\n",
       "      <td>2</td>\n",
       "    </tr>\n",
       "    <tr>\n",
       "      <th>1634126</th>\n",
       "      <td>31113</td>\n",
       "      <td>2739</td>\n",
       "      <td>1</td>\n",
       "    </tr>\n",
       "    <tr>\n",
       "      <th>1634127</th>\n",
       "      <td>31113</td>\n",
       "      <td>2688</td>\n",
       "      <td>1</td>\n",
       "    </tr>\n",
       "  </tbody>\n",
       "</table>\n",
       "<p>1634128 rows × 3 columns</p>\n",
       "</div>"
      ],
      "text/plain": [
       "         Source  Target  Weight\n",
       "0          1292     257      16\n",
       "1          1292    7420      36\n",
       "2          1292    3048     332\n",
       "3          1292     339     501\n",
       "4          1292   19001      17\n",
       "...         ...     ...     ...\n",
       "1634123   18834     235       1\n",
       "1634124   31098    2707       4\n",
       "1634125   31098    2709       2\n",
       "1634126   31113    2739       1\n",
       "1634127   31113    2688       1\n",
       "\n",
       "[1634128 rows x 3 columns]"
      ]
     },
     "execution_count": 34,
     "metadata": {},
     "output_type": "execute_result"
    }
   ],
   "source": [
    "whole_network"
   ]
  },
  {
   "cell_type": "code",
   "execution_count": 30,
   "metadata": {},
   "outputs": [],
   "source": [
    "whole_network = whole_network.drop([0],axis=1)"
   ]
  },
  {
   "cell_type": "code",
   "execution_count": 33,
   "metadata": {},
   "outputs": [],
   "source": [
    "cols = ['Source','Target','Weight']\n",
    "whole_network.columns = cols"
   ]
  },
  {
   "cell_type": "code",
   "execution_count": 35,
   "metadata": {},
   "outputs": [],
   "source": [
    "whole_graph = nx.from_pandas_edgelist(whole_network, source = 'Source', target = 'Target', edge_attr = 'Weight')"
   ]
  },
  {
   "cell_type": "code",
   "execution_count": 36,
   "metadata": {},
   "outputs": [],
   "source": [
    "nodes = dict(whole_graph.nodes())\n",
    "edges = dict(whole_graph.edges())"
   ]
  },
  {
   "cell_type": "code",
   "execution_count": 37,
   "metadata": {},
   "outputs": [
    {
     "data": {
      "text/plain": [
       "8372"
      ]
     },
     "execution_count": 37,
     "metadata": {},
     "output_type": "execute_result"
    }
   ],
   "source": [
    "len(nodes)"
   ]
  },
  {
   "cell_type": "code",
   "execution_count": 38,
   "metadata": {},
   "outputs": [
    {
     "data": {
      "text/plain": [
       "817064"
      ]
     },
     "execution_count": 38,
     "metadata": {},
     "output_type": "execute_result"
    }
   ],
   "source": [
    "len(edges)"
   ]
  },
  {
   "cell_type": "code",
   "execution_count": 40,
   "metadata": {},
   "outputs": [
    {
     "data": {
      "text/plain": [
       "False"
      ]
     },
     "execution_count": 40,
     "metadata": {},
     "output_type": "execute_result"
    }
   ],
   "source": [
    "nx.is_directed(whole_graph)"
   ]
  },
  {
   "cell_type": "code",
   "execution_count": 41,
   "metadata": {},
   "outputs": [
    {
     "data": {
      "text/plain": [
       "False"
      ]
     },
     "execution_count": 41,
     "metadata": {},
     "output_type": "execute_result"
    }
   ],
   "source": [
    "nx.is_connected(whole_graph)"
   ]
  },
  {
   "cell_type": "code",
   "execution_count": 43,
   "metadata": {},
   "outputs": [],
   "source": [
    "largest_subgraph = max(nx.connected_components(whole_graph), key=len)"
   ]
  },
  {
   "cell_type": "code",
   "execution_count": 48,
   "metadata": {},
   "outputs": [
    {
     "data": {
      "text/plain": [
       "8360"
      ]
     },
     "execution_count": 48,
     "metadata": {},
     "output_type": "execute_result"
    }
   ],
   "source": [
    "len(largest_subgraph)"
   ]
  },
  {
   "cell_type": "code",
   "execution_count": 50,
   "metadata": {},
   "outputs": [],
   "source": [
    "gcc = whole_graph.subgraph(largest_subgraph)"
   ]
  },
  {
   "cell_type": "code",
   "execution_count": 54,
   "metadata": {},
   "outputs": [
    {
     "data": {
      "text/plain": [
       "True"
      ]
     },
     "execution_count": 54,
     "metadata": {},
     "output_type": "execute_result"
    }
   ],
   "source": [
    "nx.is_connected(gcc)"
   ]
  },
  {
   "cell_type": "code",
   "execution_count": 56,
   "metadata": {},
   "outputs": [
    {
     "data": {
      "text/plain": [
       "False"
      ]
     },
     "execution_count": 56,
     "metadata": {},
     "output_type": "execute_result"
    }
   ],
   "source": [
    "nx.is_directed(gcc)"
   ]
  },
  {
   "cell_type": "code",
   "execution_count": 59,
   "metadata": {},
   "outputs": [
    {
     "name": "stdout",
     "output_type": "stream",
     "text": [
      "Average degree of the largest cluster:  195.46842105263158\n"
     ]
    },
    {
     "ename": "KeyboardInterrupt",
     "evalue": "",
     "output_type": "error",
     "traceback": [
      "\u001b[0;31m---------------------------------------------------------------------------\u001b[0m",
      "\u001b[0;31mKeyboardInterrupt\u001b[0m                         Traceback (most recent call last)",
      "Cell \u001b[0;32mIn[59], line 4\u001b[0m\n\u001b[1;32m      2\u001b[0m \u001b[39mprint\u001b[39m(\u001b[39m'\u001b[39m\u001b[39mAverage degree of the largest cluster: \u001b[39m\u001b[39m'\u001b[39m, np\u001b[39m.\u001b[39mmean([val \u001b[39mfor\u001b[39;00m (node, val) \u001b[39min\u001b[39;00m gcc\u001b[39m.\u001b[39mdegree()]))\n\u001b[1;32m      3\u001b[0m \u001b[39m# average shortest path length of the largest cluster\u001b[39;00m\n\u001b[0;32m----> 4\u001b[0m \u001b[39mprint\u001b[39m(\u001b[39m'\u001b[39m\u001b[39mAverage shortest path length of the largest cluster: \u001b[39m\u001b[39m'\u001b[39m, nx\u001b[39m.\u001b[39;49maverage_shortest_path_length(gcc))\n",
      "File \u001b[0;32m~/miniforge3/envs/ns_env/lib/python3.9/site-packages/networkx/algorithms/shortest_paths/generic.py:429\u001b[0m, in \u001b[0;36maverage_shortest_path_length\u001b[0;34m(G, weight, method)\u001b[0m\n\u001b[1;32m    425\u001b[0m         \u001b[39mreturn\u001b[39;00m nx\u001b[39m.\u001b[39msingle_source_bellman_ford_path_length(G, v, weight\u001b[39m=\u001b[39mweight)\n\u001b[1;32m    427\u001b[0m \u001b[39mif\u001b[39;00m method \u001b[39min\u001b[39;00m single_source_methods:\n\u001b[1;32m    428\u001b[0m     \u001b[39m# Sum the distances for each (ordered) pair of source and target node.\u001b[39;00m\n\u001b[0;32m--> 429\u001b[0m     s \u001b[39m=\u001b[39m \u001b[39msum\u001b[39;49m(l \u001b[39mfor\u001b[39;49;00m u \u001b[39min\u001b[39;49;00m G \u001b[39mfor\u001b[39;49;00m l \u001b[39min\u001b[39;49;00m path_length(u)\u001b[39m.\u001b[39;49mvalues())\n\u001b[1;32m    430\u001b[0m \u001b[39melse\u001b[39;00m:\n\u001b[1;32m    431\u001b[0m     \u001b[39mif\u001b[39;00m method \u001b[39m==\u001b[39m \u001b[39m\"\u001b[39m\u001b[39mfloyd-warshall\u001b[39m\u001b[39m\"\u001b[39m:\n",
      "File \u001b[0;32m~/miniforge3/envs/ns_env/lib/python3.9/site-packages/networkx/algorithms/shortest_paths/generic.py:429\u001b[0m, in \u001b[0;36m<genexpr>\u001b[0;34m(.0)\u001b[0m\n\u001b[1;32m    425\u001b[0m         \u001b[39mreturn\u001b[39;00m nx\u001b[39m.\u001b[39msingle_source_bellman_ford_path_length(G, v, weight\u001b[39m=\u001b[39mweight)\n\u001b[1;32m    427\u001b[0m \u001b[39mif\u001b[39;00m method \u001b[39min\u001b[39;00m single_source_methods:\n\u001b[1;32m    428\u001b[0m     \u001b[39m# Sum the distances for each (ordered) pair of source and target node.\u001b[39;00m\n\u001b[0;32m--> 429\u001b[0m     s \u001b[39m=\u001b[39m \u001b[39msum\u001b[39m(l \u001b[39mfor\u001b[39;00m u \u001b[39min\u001b[39;00m G \u001b[39mfor\u001b[39;00m l \u001b[39min\u001b[39;00m path_length(u)\u001b[39m.\u001b[39mvalues())\n\u001b[1;32m    430\u001b[0m \u001b[39melse\u001b[39;00m:\n\u001b[1;32m    431\u001b[0m     \u001b[39mif\u001b[39;00m method \u001b[39m==\u001b[39m \u001b[39m\"\u001b[39m\u001b[39mfloyd-warshall\u001b[39m\u001b[39m\"\u001b[39m:\n",
      "File \u001b[0;32m~/miniforge3/envs/ns_env/lib/python3.9/site-packages/networkx/algorithms/shortest_paths/generic.py:421\u001b[0m, in \u001b[0;36maverage_shortest_path_length.<locals>.path_length\u001b[0;34m(v)\u001b[0m\n\u001b[1;32m    419\u001b[0m \u001b[39mdef\u001b[39;00m \u001b[39mpath_length\u001b[39m(v):\n\u001b[1;32m    420\u001b[0m     \u001b[39mif\u001b[39;00m method \u001b[39m==\u001b[39m \u001b[39m\"\u001b[39m\u001b[39munweighted\u001b[39m\u001b[39m\"\u001b[39m:\n\u001b[0;32m--> 421\u001b[0m         \u001b[39mreturn\u001b[39;00m nx\u001b[39m.\u001b[39;49msingle_source_shortest_path_length(G, v)\n\u001b[1;32m    422\u001b[0m     \u001b[39melif\u001b[39;00m method \u001b[39m==\u001b[39m \u001b[39m\"\u001b[39m\u001b[39mdijkstra\u001b[39m\u001b[39m\"\u001b[39m:\n\u001b[1;32m    423\u001b[0m         \u001b[39mreturn\u001b[39;00m nx\u001b[39m.\u001b[39msingle_source_dijkstra_path_length(G, v, weight\u001b[39m=\u001b[39mweight)\n",
      "File \u001b[0;32m~/miniforge3/envs/ns_env/lib/python3.9/site-packages/networkx/classes/backends.py:148\u001b[0m, in \u001b[0;36m_dispatch.<locals>.wrapper\u001b[0;34m(*args, **kwds)\u001b[0m\n\u001b[1;32m    144\u001b[0m         \u001b[39melse\u001b[39;00m:\n\u001b[1;32m    145\u001b[0m             \u001b[39mraise\u001b[39;00m NetworkXNotImplemented(\n\u001b[1;32m    146\u001b[0m                 \u001b[39mf\u001b[39m\u001b[39m\"\u001b[39m\u001b[39m'\u001b[39m\u001b[39m{\u001b[39;00mname\u001b[39m}\u001b[39;00m\u001b[39m'\u001b[39m\u001b[39m not implemented by \u001b[39m\u001b[39m{\u001b[39;00mplugin_name\u001b[39m}\u001b[39;00m\u001b[39m\"\u001b[39m\n\u001b[1;32m    147\u001b[0m             )\n\u001b[0;32m--> 148\u001b[0m \u001b[39mreturn\u001b[39;00m func(\u001b[39m*\u001b[39;49margs, \u001b[39m*\u001b[39;49m\u001b[39m*\u001b[39;49mkwds)\n",
      "File \u001b[0;32m~/miniforge3/envs/ns_env/lib/python3.9/site-packages/networkx/algorithms/shortest_paths/unweighted.py:62\u001b[0m, in \u001b[0;36msingle_source_shortest_path_length\u001b[0;34m(G, source, cutoff)\u001b[0m\n\u001b[1;32m     60\u001b[0m     cutoff \u001b[39m=\u001b[39m \u001b[39mfloat\u001b[39m(\u001b[39m\"\u001b[39m\u001b[39minf\u001b[39m\u001b[39m\"\u001b[39m)\n\u001b[1;32m     61\u001b[0m nextlevel \u001b[39m=\u001b[39m [source]\n\u001b[0;32m---> 62\u001b[0m \u001b[39mreturn\u001b[39;00m \u001b[39mdict\u001b[39;49m(_single_shortest_path_length(G\u001b[39m.\u001b[39;49m_adj, nextlevel, cutoff))\n",
      "File \u001b[0;32m~/miniforge3/envs/ns_env/lib/python3.9/site-packages/networkx/algorithms/shortest_paths/unweighted.py:89\u001b[0m, in \u001b[0;36m_single_shortest_path_length\u001b[0;34m(adj, firstlevel, cutoff)\u001b[0m\n\u001b[1;32m     87\u001b[0m nextlevel \u001b[39m=\u001b[39m []\n\u001b[1;32m     88\u001b[0m \u001b[39mfor\u001b[39;00m v \u001b[39min\u001b[39;00m thislevel:\n\u001b[0;32m---> 89\u001b[0m     \u001b[39mfor\u001b[39;00m w \u001b[39min\u001b[39;00m adj[v]:\n\u001b[1;32m     90\u001b[0m         \u001b[39mif\u001b[39;00m w \u001b[39mnot\u001b[39;00m \u001b[39min\u001b[39;00m seen:\n\u001b[1;32m     91\u001b[0m             seen\u001b[39m.\u001b[39madd(w)\n",
      "File \u001b[0;32m~/miniforge3/envs/ns_env/lib/python3.9/site-packages/networkx/classes/coreviews.py:281\u001b[0m, in \u001b[0;36m<genexpr>\u001b[0;34m(.0)\u001b[0m\n\u001b[1;32m    279\u001b[0m \u001b[39mif\u001b[39;00m node_ok_shorter:\n\u001b[1;32m    280\u001b[0m     \u001b[39mreturn\u001b[39;00m (n \u001b[39mfor\u001b[39;00m n \u001b[39min\u001b[39;00m \u001b[39mself\u001b[39m\u001b[39m.\u001b[39mNODE_OK\u001b[39m.\u001b[39mnodes \u001b[39mif\u001b[39;00m n \u001b[39min\u001b[39;00m \u001b[39mself\u001b[39m\u001b[39m.\u001b[39m_atlas)\n\u001b[0;32m--> 281\u001b[0m \u001b[39mreturn\u001b[39;00m (n \u001b[39mfor\u001b[39;00m n \u001b[39min\u001b[39;00m \u001b[39mself\u001b[39m\u001b[39m.\u001b[39m_atlas \u001b[39mif\u001b[39;00m \u001b[39mself\u001b[39m\u001b[39m.\u001b[39mNODE_OK(n))\n",
      "\u001b[0;31mKeyboardInterrupt\u001b[0m: "
     ]
    }
   ],
   "source": [
    "# average degree of the largest cluster\n",
    "print('Average degree of the largest cluster: ', np.mean([val for (node, val) in gcc.degree()]))\n",
    "# average shortest path length of the largest cluster\n",
    "print('Average shortest path length of the largest cluster: ', nx.average_shortest_path_length(gcc))"
   ]
  },
  {
   "cell_type": "code",
   "execution_count": 60,
   "metadata": {},
   "outputs": [
    {
     "data": {
      "text/plain": [
       "-0.19388633192885202"
      ]
     },
     "execution_count": 60,
     "metadata": {},
     "output_type": "execute_result"
    }
   ],
   "source": [
    "# degree assortatovity coefficient\n",
    "nx.degree_assortativity_coefficient(gcc)"
   ]
  },
  {
   "cell_type": "code",
   "execution_count": 61,
   "metadata": {},
   "outputs": [],
   "source": [
    "max_degree = max(deg for n, deg in gcc.degree)\n",
    "mapping = {x: x for x in range(max_degree + 1)} # identity mapping\n",
    "mix_mat = nx.degree_mixing_matrix(gcc, mapping=mapping)"
   ]
  },
  {
   "cell_type": "code",
   "execution_count": 63,
   "metadata": {},
   "outputs": [
    {
     "data": {
      "text/plain": [
       "(4375, 4375)"
      ]
     },
     "execution_count": 63,
     "metadata": {},
     "output_type": "execute_result"
    }
   ],
   "source": [
    "mix_mat.shape"
   ]
  },
  {
   "cell_type": "code",
   "execution_count": 62,
   "metadata": {},
   "outputs": [
    {
     "data": {
      "text/plain": [
       "array([[0.00000000e+00, 0.00000000e+00, 0.00000000e+00, ...,\n",
       "        0.00000000e+00, 0.00000000e+00, 0.00000000e+00],\n",
       "       [0.00000000e+00, 0.00000000e+00, 1.22390332e-06, ...,\n",
       "        0.00000000e+00, 0.00000000e+00, 0.00000000e+00],\n",
       "       [0.00000000e+00, 1.22390332e-06, 0.00000000e+00, ...,\n",
       "        0.00000000e+00, 0.00000000e+00, 1.22390332e-06],\n",
       "       ...,\n",
       "       [0.00000000e+00, 0.00000000e+00, 0.00000000e+00, ...,\n",
       "        0.00000000e+00, 0.00000000e+00, 0.00000000e+00],\n",
       "       [0.00000000e+00, 0.00000000e+00, 0.00000000e+00, ...,\n",
       "        0.00000000e+00, 0.00000000e+00, 0.00000000e+00],\n",
       "       [0.00000000e+00, 0.00000000e+00, 1.22390332e-06, ...,\n",
       "        0.00000000e+00, 0.00000000e+00, 0.00000000e+00]])"
      ]
     },
     "execution_count": 62,
     "metadata": {},
     "output_type": "execute_result"
    }
   ],
   "source": [
    "plt.imshow(a, cmap='hot', interpolation='nearest')\n",
    "plt.show()"
   ]
  },
  {
   "cell_type": "code",
   "execution_count": null,
   "metadata": {},
   "outputs": [],
   "source": []
  }
 ],
 "metadata": {
  "kernelspec": {
   "display_name": "Python 3",
   "language": "python",
   "name": "python3"
  },
  "language_info": {
   "codemirror_mode": {
    "name": "ipython",
    "version": 3
   },
   "file_extension": ".py",
   "mimetype": "text/x-python",
   "name": "python",
   "nbconvert_exporter": "python",
   "pygments_lexer": "ipython3",
   "version": "3.9.18"
  },
  "orig_nbformat": 4
 },
 "nbformat": 4,
 "nbformat_minor": 2
}
